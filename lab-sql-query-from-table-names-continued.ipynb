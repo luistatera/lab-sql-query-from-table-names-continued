{
  "cells": [
    {
      "cell_type": "markdown",
      "id": "7d930c89-4954-4e39-be5a-601c1dd89512",
      "metadata": {
        "id": "7d930c89-4954-4e39-be5a-601c1dd89512"
      },
      "source": [
        "# SQL query from table names - Continued"
      ]
    },
    {
      "cell_type": "code",
      "execution_count": 1,
      "id": "c2ab19a7",
      "metadata": {
        "colab": {
          "base_uri": "https://localhost:8080/"
        },
        "id": "c2ab19a7",
        "outputId": "6d05a783-f334-49b3-df94-8ac26fe72803"
      },
      "outputs": [
        {
          "name": "stdout",
          "output_type": "stream",
          "text": [
            "Requirement already satisfied: python-dotenv in /opt/homebrew/lib/python3.11/site-packages (1.1.1)\n",
            "Note: you may need to restart the kernel to use updated packages.\n"
          ]
        }
      ],
      "source": [
        "%pip install python-dotenv"
      ]
    },
    {
      "cell_type": "code",
      "execution_count": 2,
      "id": "a03f026a",
      "metadata": {
        "id": "a03f026a"
      },
      "outputs": [],
      "source": [
        "from openai import OpenAI\n",
        "import os\n",
        "\n",
        "OPENAI_API_KEY  = os.getenv('OPENAI_API_KEY')"
      ]
    },
    {
      "cell_type": "code",
      "execution_count": 3,
      "id": "BF9mQdqGD1j8",
      "metadata": {
        "colab": {
          "base_uri": "https://localhost:8080/"
        },
        "id": "BF9mQdqGD1j8",
        "outputId": "78cf0c85-2b67-426d-ef61-344d3a6d2ae3"
      },
      "outputs": [
        {
          "name": "stdout",
          "output_type": "stream",
          "text": [
            "OpenAI Key: Loaded ✅\n"
          ]
        }
      ],
      "source": [
        "print(\"OpenAI Key:\", \"Loaded ✅\" if OPENAI_API_KEY else \"Missing ❌\")\n"
      ]
    },
    {
      "cell_type": "markdown",
      "id": "53a05b80-88fd-42b2-ba89-763074ae74e9",
      "metadata": {
        "id": "53a05b80-88fd-42b2-ba89-763074ae74e9"
      },
      "source": [
        "## The old Prompt"
      ]
    },
    {
      "cell_type": "code",
      "execution_count": 4,
      "id": "922f8d24",
      "metadata": {
        "id": "922f8d24"
      },
      "outputs": [],
      "source": [
        "#The old prompt\n",
        "old_context = [ {'role':'system', 'content':\"\"\"\n",
        "you are a bot to assist in create SQL commands, all your answers should start with \\\n",
        "this is your SQL, and after that an SQL that can do what the user request. \\\n",
        "Your Database is composed by a SQL database with some tables. \\\n",
        "Try to maintain the SQL order simple.\n",
        "Put the SQL command in white letters with a black background, and just after \\\n",
        "a simple and concise text explaining how it works.\n",
        "If the user ask for something that can not be solved with an SQL Order \\\n",
        "just answer something nice and simple, maximum 10 words, asking him for something that \\\n",
        "can be solved with SQL.\n",
        "\"\"\"} ]\n",
        "\n",
        "old_context.append( {'role':'system', 'content':\"\"\"\n",
        "first table:\n",
        "{\n",
        "  \"tableName\": \"employees\",\n",
        "  \"fields\": [\n",
        "    {\n",
        "      \"nombre\": \"ID_usr\",\n",
        "      \"tipo\": \"int\"\n",
        "    },\n",
        "    {\n",
        "      \"nombre\": \"name\",\n",
        "      \"tipo\": \"varchar\"\n",
        "    }\n",
        "  ]\n",
        "}\n",
        "\"\"\"\n",
        "})\n",
        "\n",
        "old_context.append( {'role':'system', 'content':\"\"\"\n",
        "second table:\n",
        "{\n",
        "  \"tableName\": \"salary\",\n",
        "  \"fields\": [\n",
        "    {\n",
        "      \"nombre\": \"ID_usr\",\n",
        "      \"type\": \"int\"\n",
        "    },\n",
        "    {\n",
        "      \"name\": \"year\",\n",
        "      \"type\": \"date\"\n",
        "    },\n",
        "    {\n",
        "      \"name\": \"salary\",\n",
        "      \"type\": \"float\"\n",
        "    }\n",
        "  ]\n",
        "}\n",
        "\"\"\"\n",
        "})\n",
        "\n",
        "old_context.append( {'role':'system', 'content':\"\"\"\n",
        "third table:\n",
        "{\n",
        "  \"tablename\": \"studies\",\n",
        "  \"fields\": [\n",
        "    {\n",
        "      \"name\": \"ID\",\n",
        "      \"type\": \"int\"\n",
        "    },\n",
        "    {\n",
        "      \"name\": \"ID_usr\",\n",
        "      \"type\": \"int\"\n",
        "    },\n",
        "    {\n",
        "      \"name\": \"educational_level\",\n",
        "      \"type\": \"int\"\n",
        "    },\n",
        "    {\n",
        "      \"name\": \"Institution\",\n",
        "      \"type\": \"varchar\"\n",
        "    },\n",
        "    {\n",
        "      \"name\": \"Years\",\n",
        "      \"type\": \"date\"\n",
        "    }\n",
        "    {\n",
        "      \"name\": \"Speciality\",\n",
        "      \"type\": \"varchar\"\n",
        "    }\n",
        "  ]\n",
        "}\n",
        "\"\"\"\n",
        "})"
      ]
    },
    {
      "cell_type": "markdown",
      "id": "377acaae-7dd0-4d13-bc68-9e33741c231c",
      "metadata": {
        "id": "377acaae-7dd0-4d13-bc68-9e33741c231c"
      },
      "source": [
        "## New Prompt.\n",
        "We are going to improve it following the instructions of a Paper from the Ohaio University: [How to Prompt LLMs for Text-to-SQL: A Study in Zero-shot, Single-domain, and Cross-domain Settings](https://arxiv.org/abs/2305.11853). I recommend you read that paper.\n",
        "\n",
        "For each table, we will define the structure using the same syntax as in a SQL create table command, and add the sample rows of the content.\n",
        "\n",
        "Finally, at the end of the prompt, we'll include some example queries with the SQL that the model should generate. This technique is called Few-Shot Samples, in which we provide the prompt with some examples to assist it in generating the correct SQL.\n"
      ]
    },
    {
      "cell_type": "code",
      "execution_count": 5,
      "id": "5334f942",
      "metadata": {
        "id": "5334f942"
      },
      "outputs": [],
      "source": [
        "#context = [ {'role':'system', 'content':\"\"\"\n",
        "# CREATE SEVERAL (3+) TABLES HERE\n",
        "#\"\"\"} ]\n",
        "\n",
        "context = []\n",
        "\n",
        "# Example Table 1: Customers\n",
        "context.append( {'role':'system', 'content':\"\"\"\n",
        " CREATE TABLE Customers (\n",
        "    CustomerID INT PRIMARY KEY,\n",
        "    CustomerName VARCHAR(255),\n",
        "    ContactName VARCHAR(255),\n",
        "    Country VARCHAR(255)\n",
        " );\n",
        "\n",
        " INSERT INTO Customers (CustomerID, CustomerName, ContactName, Country) VALUES\n",
        " (1, 'Alfreds Futterkiste', 'Maria Anders', 'Germany'),\n",
        " (2, 'Ana Trujillo Emparedados y helados', 'Ana Trujillo', 'Mexico'),\n",
        " (3, 'Antonio Moreno Taquería', 'Antonio Moreno', 'Mexico'),\n",
        " (4, 'Around the Horn', 'Thomas Hardy', 'UK'),\n",
        " (5, 'Berglunds snabbköp', 'Christina Berglund', 'Sweden');\n",
        "\"\"\"} )\n",
        "\n",
        "# Example Table 2: Products\n",
        "context.append( {'role':'system', 'content':\"\"\"\n",
        " CREATE TABLE Products (\n",
        "    ProductID INT PRIMARY KEY,\n",
        "    ProductName VARCHAR(255),\n",
        "    SupplierID INT,\n",
        "    CategoryID INT,\n",
        "    Price DECIMAL(10, 2)\n",
        " );\n",
        "\n",
        " INSERT INTO Products (ProductID, ProductName, SupplierID, CategoryID, Price) VALUES\n",
        " (1, 'Chais', 1, 1, 18.00),\n",
        " (2, 'Chang', 1, 1, 19.00),\n",
        " (3, 'Aniseed Syrup', 1, 2, 10.00),\n",
        " (4, 'Chef Anton''s Cajun Seasoning', 2, 2, 22.00),\n",
        " (5, 'Chef Anton''s Gumbo Mix', 2, 2, 21.35);\n",
        "\"\"\"} )\n",
        "\n",
        "# Example Table 3: Orders\n",
        "context.append( {'role':'system', 'content':\"\"\"\n",
        " CREATE TABLE Orders (\n",
        "    OrderID INT PRIMARY KEY,\n",
        "    CustomerID INT,\n",
        "    EmployeeID INT,\n",
        "    OrderDate DATE,\n",
        "    ShipperID INT\n",
        " );\n",
        "\n",
        " INSERT INTO Orders (OrderID, CustomerID, EmployeeID, OrderDate, ShipperID) VALUES\n",
        " (10248, 1, 5, '1996-07-04', 3),\n",
        " (10249, 3, 6, '1996-07-05', 1),\n",
        " (10250, 4, 4, '1996-07-08', 2),\n",
        " (10251, 5, 3, '1996-07-08', 2),\n",
        " (10252, 1, 3, '1996-07-09', 3);\n",
        "\"\"\"} )\n",
        "\n",
        "# Example Table 4: Shippers\n",
        "context.append( {'role':'system', 'content':\"\"\"\n",
        " CREATE TABLE Shippers (\n",
        "    ShipperID INT PRIMARY KEY,\n",
        "    CompanyName VARCHAR(255),\n",
        "    Phone VARCHAR(255)\n",
        " );\n",
        "\n",
        " INSERT INTO Shippers (ShipperID, CompanyName, Phone) VALUES\n",
        " (1, 'Speedy Express', '(503) 555-9831'),\n",
        " (2, 'United Package', '(503) 555-3199'),\n",
        " (3, 'Federal Shipping', '(503) 555-9931');\n",
        "\"\"\"} )\n",
        "\n"
      ]
    },
    {
      "cell_type": "code",
      "execution_count": 6,
      "id": "330e69b0-3f5f-4bb2-8185-aedded2bb993",
      "metadata": {
        "id": "330e69b0-3f5f-4bb2-8185-aedded2bb993"
      },
      "outputs": [],
      "source": [
        "#FEW SHOT SAMPLES\n",
        "context.append( {'role':'system', 'content':\"\"\"\n",
        " -- Maintain the SQL order simple and efficient as you can, using valid SQL Lite, answer the following questions for the table provided above.\n",
        " -- Example 1:\n",
        " -- User: List the names of all customers from Germany.\n",
        " -- SQL: SELECT CustomerName FROM Customers WHERE Country = 'Germany';\n",
        " -- Example 2:\n",
        " -- User: What is the price of the product 'Chang'?\n",
        " -- SQL: SELECT Price FROM Products WHERE ProductName = 'Chang';\n",
        " -- Example 3:\n",
        " -- User: Find the CustomerID and OrderDate for all orders placed by CustomerID 1.\n",
        " -- SQL: SELECT CustomerID, OrderDate FROM Orders WHERE CustomerID = 1;\n",
        " -- Example 4:\n",
        " -- User: What is the name of the shipper with ShipperID 2?\n",
        " -- SQL: SELECT CompanyName FROM Shippers WHERE ShipperID = 2;\n",
        "\"\"\"\n",
        "})"
      ]
    },
    {
      "cell_type": "code",
      "execution_count": 7,
      "id": "b90f417a",
      "metadata": {
        "id": "b90f417a"
      },
      "outputs": [],
      "source": [
        "#Functio to call the model.\n",
        "def return_CCRMSQL(user_message, context):\n",
        "    client = OpenAI(\n",
        "    # This is the default and can be omitted\n",
        "    api_key=OPENAI_API_KEY,\n",
        ")\n",
        "\n",
        "    newcontext = context.copy()\n",
        "    newcontext.append({'role':'user', 'content':\"question: \" + user_message})\n",
        "\n",
        "    response = client.chat.completions.create(\n",
        "            model=\"gpt-3.5-turbo\",\n",
        "            messages=newcontext,\n",
        "            temperature=0,\n",
        "        )\n",
        "\n",
        "    return (response.choices[0].message.content)"
      ]
    },
    {
      "cell_type": "markdown",
      "id": "9e0a4c11-dfe1-46fe-ac2b-3ff825f9749c",
      "metadata": {
        "id": "9e0a4c11-dfe1-46fe-ac2b-3ff825f9749c"
      },
      "source": [
        "## NL2SQL Samples\n",
        "We're going to review some examples generated with the old prompt and others with the new prompt."
      ]
    },
    {
      "cell_type": "code",
      "execution_count": 8,
      "id": "59e8202c-ce34-487e-9037-c65a263423ed",
      "metadata": {
        "colab": {
          "base_uri": "https://localhost:8080/",
          "height": 408
        },
        "id": "59e8202c-ce34-487e-9037-c65a263423ed",
        "outputId": "0fde449f-4855-4501-c1d6-904bf3ae5a90"
      },
      "outputs": [
        {
          "name": "stdout",
          "output_type": "stream",
          "text": [
            "```sql\n",
            "SELECT ProductName FROM Products WHERE Price > 20;\n",
            "```\n"
          ]
        }
      ],
      "source": [
        "#new\n",
        "context_user = context.copy()\n",
        "print(return_CCRMSQL(\"List the names of all products with a price greater than 20.\", context_user))"
      ]
    },
    {
      "cell_type": "code",
      "execution_count": 9,
      "id": "9c4766b1-48a9-456e-bc6c-4b6f41909aa4",
      "metadata": {
        "id": "9c4766b1-48a9-456e-bc6c-4b6f41909aa4"
      },
      "outputs": [
        {
          "name": "stdout",
          "output_type": "stream",
          "text": [
            "This is your SQL:\n",
            "```sql\n",
            "SELECT name\n",
            "FROM employees\n",
            "WHERE ID_usr = 10250;\n",
            "```\n",
            "This SQL query selects the name of the customer from the employees table where the ID_usr matches the given OrderID 10250.\n"
          ]
        }
      ],
      "source": [
        "#old\n",
        "old_context_user = old_context.copy()\n",
        "print(return_CCRMSQL(\"Find the customer name for OrderID 10250\", old_context_user))"
      ]
    },
    {
      "cell_type": "code",
      "execution_count": 10,
      "id": "38d8d370-0524-4a28-bd54-5e5cddb08e2c",
      "metadata": {
        "id": "38d8d370-0524-4a28-bd54-5e5cddb08e2c"
      },
      "outputs": [
        {
          "name": "stdout",
          "output_type": "stream",
          "text": [
            "User: List the names of all customers from Mexico.\n"
          ]
        }
      ],
      "source": [
        "#new\n",
        "print(return_CCRMSQL(\"YOUR QUERY HERE\", context_user))"
      ]
    },
    {
      "cell_type": "code",
      "execution_count": 11,
      "id": "5aa318d4-dd9f-41db-8ff4-c1d87220f766",
      "metadata": {
        "id": "5aa318d4-dd9f-41db-8ff4-c1d87220f766"
      },
      "outputs": [
        {
          "name": "stdout",
          "output_type": "stream",
          "text": [
            "This is your SQL:\n",
            "```sql\n",
            "\n",
            "Please provide a specific query to assist you.\n"
          ]
        }
      ],
      "source": [
        "#old\n",
        "print(return_CCRMSQL(\"YOUR QUERY HERE\", old_context_user))"
      ]
    },
    {
      "cell_type": "markdown",
      "id": "0f31968e-74ad-4ae2-9537-b3d550b1be47",
      "metadata": {
        "id": "0f31968e-74ad-4ae2-9537-b3d550b1be47"
      },
      "source": [
        "# Exercise\n",
        " - Complete the prompts similar to what we did in class.\n",
        "     - Try at least 3 versions\n",
        "     - Be creative\n",
        " - Write a one page report summarizing your findings.\n",
        "     - Were there variations that didn't work well? i.e., where GPT either hallucinated or wrong.\n",
        "     - What did you learn?"
      ]
    },
    {
      "cell_type": "code",
      "execution_count": null,
      "id": "a3e8dbf1",
      "metadata": {},
      "outputs": [],
      "source": [
        "# Prompt Variation 1: More explicit instructions\n",
        "context_v1 = []\n",
        "\n",
        "# Example Table 1: Customers\n",
        "context_v1.append( {'role':'system', 'content':\"\"\"\n",
        " CREATE TABLE Customers (\n",
        "    CustomerID INT PRIMARY KEY,\n",
        "    CustomerName VARCHAR(255),\n",
        "    ContactName VARCHAR(255),\n",
        "    Country VARCHAR(255)\n",
        " );\n",
        "\n",
        " INSERT INTO Customers (CustomerID, CustomerName, ContactName, Country) VALUES\n",
        " (1, 'Alfreds Futterkiste', 'Maria Anders', 'Germany'),\n",
        " (2, 'Ana Trujillo Emparedados y helados', 'Ana Trujillo', 'Mexico'),\n",
        " (3, 'Antonio Moreno Taquería', 'Antonio Moreno', 'Mexico'),\n",
        " (4, 'Around the Horn', 'Thomas Hardy', 'UK'),\n",
        " (5, 'Berglunds snabbköp', 'Christina Berglund', 'Sweden');\n",
        "\"\"\"} )\n",
        "\n",
        "# Example Table 2: Products\n",
        "context_v1.append( {'role':'system', 'content':\"\"\"\n",
        " CREATE TABLE Products (\n",
        "    ProductID INT PRIMARY KEY,\n",
        "    ProductName VARCHAR(255),\n",
        "    SupplierID INT,\n",
        "    CategoryID INT,\n",
        "    Price DECIMAL(10, 2)\n",
        " );\n",
        "\n",
        " INSERT INTO Products (ProductID, ProductName, SupplierID, CategoryID, Price) VALUES\n",
        " (1, 'Chais', 1, 1, 18.00),\n",
        " (2, 'Chang', 1, 1, 19.00),\n",
        " (3, 'Aniseed Syrup', 1, 2, 10.00),\n",
        " (4, 'Chef Anton''s Cajun Seasoning', 2, 2, 22.00),\n",
        " (5, 'Chef Anton''s Gumbo Mix', 2, 2, 21.35);\n",
        "\"\"\"} )\n",
        "\n",
        "# Example Table 3: Orders\n",
        "context_v1.append( {'role':'system', 'content':\"\"\"\n",
        " CREATE TABLE Orders (\n",
        "    OrderID INT PRIMARY KEY,\n",
        "    CustomerID INT,\n",
        "    EmployeeID INT,\n",
        "    OrderDate DATE,\n",
        "    ShipperID INT\n",
        " );\n",
        "\n",
        " INSERT INTO Orders (OrderID, CustomerID, EmployeeID, OrderDate, ShipperID) VALUES\n",
        " (10248, 1, 5, '1996-07-04', 3),\n",
        " (10249, 3, 6, '1996-07-05', 1),\n",
        " (10250, 4, 4, '1996-07-08', 2),\n",
        " (10251, 5, 3, '1996-07-08', 2),\n",
        " (10252, 1, 3, '1996-07-09', 3);\n",
        "\"\"\"} )\n",
        "\n",
        "# Example Table 4: Shippers\n",
        "context_v1.append( {'role':'system', 'content':\"\"\"\n",
        " CREATE TABLE Shippers (\n",
        "    ShipperID INT PRIMARY KEY,\n",
        "    CompanyName VARCHAR(255),\n",
        "    Phone VARCHAR(255)\n",
        " );\n",
        "\n",
        " INSERT INTO Shippers (ShipperID, CompanyName, Phone) VALUES\n",
        " (1, 'Speedy Express', '(503) 555-9831'),\n",
        " (2, 'United Package', '(503) 555-3199'),\n",
        " (3, 'Federal Shipping', '(503) 555-9931');\n",
        "\"\"\"} )\n",
        "\n",
        "#FEW SHOT SAMPLES\n",
        "context_v1.append( {'role':'system', 'content':\"\"\"\n",
        " -- You are a helpful assistant that translates natural language questions into SQL queries based on the provided table schemas and data.\n",
        " -- Generate simple and efficient SQL Lite queries.\n",
        " -- Answer the following questions for the table provided above.\n",
        " -- Example 1:\n",
        " -- User: List the names of all customers from Germany.\n",
        " -- SQL: SELECT CustomerName FROM Customers WHERE Country = 'Germany';\n",
        " -- Example 2:\n",
        " -- User: What is the price of the product 'Chang'?\n",
        " -- SQL: SELECT Price FROM Products WHERE ProductName = 'Chang';\n",
        " -- Example 3:\n",
        " -- User: Find the CustomerID and OrderDate for all orders placed by CustomerID 1.\n",
        " -- SQL: SELECT CustomerID, OrderDate FROM Orders WHERE CustomerID = 1;\n",
        " -- Example 4:\n",
        " -- User: What is the name of the shipper with ShipperID 2?\n",
        " -- SQL: SELECT CompanyName FROM Shippers WHERE ShipperID = 2;\n",
        "\"\"\"\n",
        "})\n",
        "\n",
        "\n",
        "# Prompt Variation 2: Focus on simplicity\n",
        "context_v2 = []\n",
        "\n",
        "# Example Table 1: Customers\n",
        "context_v2.append( {'role':'system', 'content':\"\"\"\n",
        " CREATE TABLE Customers (\n",
        "    CustomerID INT PRIMARY KEY,\n",
        "    CustomerName VARCHAR(255),\n",
        "    ContactName VARCHAR(255),\n",
        "    Country VARCHAR(255)\n",
        " );\n",
        "\n",
        " INSERT INTO Customers (CustomerID, CustomerName, ContactName, Country) VALUES\n",
        " (1, 'Alfreds Futterkiste', 'Maria Anders', 'Germany'),\n",
        " (2, 'Ana Trujillo Emparedados y helados', 'Ana Trujillo', 'Mexico'),\n",
        " (3, 'Antonio Moreno Taquería', 'Antonio Moreno', 'Mexico'),\n",
        " (4, 'Around the Horn', 'Thomas Hardy', 'UK'),\n",
        " (5, 'Berglunds snabbköp', 'Christina Berglund', 'Sweden');\n",
        "\"\"\"} )\n",
        "\n",
        "# Example Table 2: Products\n",
        "context_v2.append( {'role':'system', 'content':\"\"\"\n",
        " CREATE TABLE Products (\n",
        "    ProductID INT PRIMARY KEY,\n",
        "    ProductName VARCHAR(255),\n",
        "    SupplierID INT,\n",
        "    CategoryID INT,\n",
        "    Price DECIMAL(10, 2)\n",
        " );\n",
        "\n",
        " INSERT INTO Products (ProductID, ProductName, SupplierID, CategoryID, Price) VALUES\n",
        " (1, 'Chais', 1, 1, 18.00),\n",
        " (2, 'Chang', 1, 1, 19.00),\n",
        " (3, 'Aniseed Syrup', 1, 2, 10.00),\n",
        " (4, 'Chef Anton''s Cajun Seasoning', 2, 2, 22.00),\n",
        " (5, 'Chef Anton''s Gumbo Mix', 2, 2, 21.35);\n",
        "\"\"\"} )\n",
        "\n",
        "# Example Table 3: Orders\n",
        "context_v2.append( {'role':'system', 'content':\"\"\"\n",
        " CREATE TABLE Orders (\n",
        "    OrderID INT PRIMARY KEY,\n",
        "    CustomerID INT,\n",
        "    EmployeeID INT,\n",
        "    OrderDate DATE,\n",
        "    ShipperID INT\n",
        " );\n",
        "\n",
        " INSERT INTO Orders (OrderID, CustomerID, EmployeeID, OrderDate, ShipperID) VALUES\n",
        " (10248, 1, 5, '1996-07-04', 3),\n",
        " (10249, 3, 6, '1996-07-05', 1),\n",
        " (10250, 4, 4, '1996-07-08', 2),\n",
        " (10251, 5, 3, '1996-07-08', 2),\n",
        " (10252, 1, 3, '1996-07-09', 3);\n",
        "\"\"\"} )\n",
        "\n",
        "# Example Table 4: Shippers\n",
        "context_v2.append( {'role':'system', 'content':\"\"\"\n",
        " CREATE TABLE Shippers (\n",
        "    ShipperID INT PRIMARY KEY,\n",
        "    CompanyName VARCHAR(255),\n",
        "    Phone VARCHAR(255)\n",
        " );\n",
        "\n",
        " INSERT INTO Shippers (ShipperID, CompanyName, Phone) VALUES\n",
        " (1, 'Speedy Express', '(503) 555-9831'),\n",
        " (2, 'United Package', '(503) 555-3199'),\n",
        " (3, 'Federal Shipping', '(503) 555-9931');\n",
        "\"\"\"} )\n",
        "\n",
        "\n",
        "#FEW SHOT SAMPLES\n",
        "context_v2.append( {'role':'system', 'content':\"\"\"\n",
        " -- Generate concise SQL Lite queries for the given question based on the provided tables.\n",
        " -- Example 1:\n",
        " -- User: Customers from Germany.\n",
        " -- SQL: SELECT CustomerName FROM Customers WHERE Country = 'Germany';\n",
        " -- Example 2:\n",
        " -- User: Price of 'Chang'.\n",
        " -- SQL: SELECT Price FROM Products WHERE ProductName = 'Chang';\n",
        " -- Example 3:\n",
        " -- User: Order details for CustomerID 1.\n",
        " -- SQL: SELECT CustomerID, OrderDate FROM Orders WHERE CustomerID = 1;\n",
        " -- Example 4:\n",
        " -- User: Shipper name for ID 2.\n",
        " -- SQL: SELECT CompanyName FROM Shippers WHERE ShipperID = 2;\n",
        "\"\"\"\n",
        "})\n",
        "\n",
        "\n",
        "# Prompt Variation 3: Adding a persona\n",
        "context_v3 = []\n",
        "\n",
        "# Example Table 1: Customers\n",
        "context_v3.append( {'role':'system', 'content':\"\"\"\n",
        " CREATE TABLE Customers (\n",
        "    CustomerID INT PRIMARY KEY,\n",
        "    CustomerName VARCHAR(255),\n",
        "    ContactName VARCHAR(255),\n",
        "    Country VARCHAR(255)\n",
        " );\n",
        "\n",
        " INSERT INTO Customers (CustomerID, CustomerName, ContactName, Country) VALUES\n",
        " (1, 'Alfreds Futterkiste', 'Maria Anders', 'Germany'),\n",
        " (2, 'Ana Trujillo Emparedados y helados', 'Ana Trujillo', 'Mexico'),\n",
        " (3, 'Antonio Moreno Taquería', 'Antonio Moreno', 'Mexico'),\n",
        " (4, 'Around the Horn', 'Thomas Hardy', 'UK'),\n",
        " (5, 'Berglunds snabbköp', 'Christina Berglund', 'Sweden');\n",
        "\"\"\"} )\n",
        "\n",
        "# Example Table 2: Products\n",
        "context_v3.append( {'role':'system', 'content':\"\"\"\n",
        " CREATE TABLE Products (\n",
        "    ProductID INT PRIMARY KEY,\n",
        "    ProductName VARCHAR(255),\n",
        "    SupplierID INT,\n",
        "    CategoryID INT,\n",
        "    Price DECIMAL(10, 2)\n",
        " );\n",
        "\n",
        " INSERT INTO Products (ProductID, ProductName, SupplierID, CategoryID, Price) VALUES\n",
        " (1, 'Chais', 1, 1, 18.00),\n",
        " (2, 'Chang', 1, 1, 19.00),\n",
        " (3, 'Aniseed Syrup', 1, 2, 10.00),\n",
        " (4, 'Chef Anton''s Cajun Seasoning', 2, 2, 22.00),\n",
        " (5, 'Chef Anton''s Gumbo Mix', 2, 2, 21.35);\n",
        "\"\"\"} )\n",
        "\n",
        "# Example Table 3: Orders\n",
        "context_v3.append( {'role':'system', 'content':\"\"\"\n",
        " CREATE TABLE Orders (\n",
        "    OrderID INT PRIMARY KEY,\n",
        "    CustomerID INT,\n",
        "    EmployeeID INT,\n",
        "    OrderDate DATE,\n",
        "    ShipperID INT\n",
        " );\n",
        "\n",
        " INSERT INTO Orders (OrderID, CustomerID, EmployeeID, OrderDate, ShipperID) VALUES\n",
        " (10248, 1, 5, '1996-07-04', 3),\n",
        " (10249, 3, 6, '1996-07-05', 1),\n",
        " (10250, 4, 4, '1996-07-08', 2),\n",
        " (10251, 5, 3, '1996-07-08', 2),\n",
        " (10252, 1, 3, '1996-07-09', 3);\n",
        "\"\"\"} )\n",
        "\n",
        "# Example Table 4: Shippers\n",
        "context_v3.append( {'role':'system', 'content':\"\"\"\n",
        " CREATE TABLE Shippers (\n",
        "    ShipperID INT PRIMARY KEY,\n",
        "    CompanyName VARCHAR(255),\n",
        "    Phone VARCHAR(255)\n",
        " );\n",
        "\n",
        " INSERT INTO Shippers (ShipperID, CompanyName, Phone) VALUES\n",
        " (1, 'Speedy Express', '(503) 555-9831'),\n",
        " (2, 'United Package', '(503) 555-3199'),\n",
        " (3, 'Federal Shipping', '(503) 555-9931');\n",
        "\"\"\"} )\n",
        "\n",
        "\n",
        "#FEW SHOT SAMPLES\n",
        "context_v3.append( {'role':'system', 'content':\"\"\"\n",
        " -- You are a SQL expert. Generate the most efficient SQL Lite query for the given question based on the provided tables and data.\n",
        " -- Example 1:\n",
        " -- User: List the names of all customers from Germany.\n",
        " -- SQL: SELECT CustomerName FROM Customers WHERE Country = 'Germany';\n",
        " -- Example 2:\n",
        " -- User: What is the price of the product 'Chang'?\n",
        " -- SQL: SELECT Price FROM Products WHERE ProductName = 'Chang';\n",
        " -- Example 3:\n",
        " -- User: Find the CustomerID and OrderDate for all orders placed by CustomerID 1.\n",
        " -- SQL: SELECT CustomerID, OrderDate FROM Orders WHERE CustomerID = 1;\n",
        " -- Example 4:\n",
        " -- User: What is the name of the shipper with ShipperID 2?\n",
        " -- SQL: SELECT CompanyName FROM Shippers WHERE ShipperID = 2;\n",
        "\"\"\"\n",
        "})"
      ]
    }
  ],
  "metadata": {
    "colab": {
      "provenance": []
    },
    "kernelspec": {
      "display_name": "Python 3",
      "language": "python",
      "name": "python3"
    },
    "language_info": {
      "codemirror_mode": {
        "name": "ipython",
        "version": 3
      },
      "file_extension": ".py",
      "mimetype": "text/x-python",
      "name": "python",
      "nbconvert_exporter": "python",
      "pygments_lexer": "ipython3",
      "version": "3.11.13"
    }
  },
  "nbformat": 4,
  "nbformat_minor": 5
}
